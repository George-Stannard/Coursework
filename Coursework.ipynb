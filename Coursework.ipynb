{
 "cells": [
  {
   "cell_type": "code",
   "execution_count": 3,
   "metadata": {
    "collapsed": false
   },
   "outputs": [],
   "source": [
    "import sympy as sym #used for symbol work in linear algebra\n",
    "sym.init_printing()\n",
    "import random #used for creating random situations and following probabilities\n",
    "import pandas as pd #used to combine two lists easily\n",
    "import matplotlib.pyplot as plt #used for graphing\n",
    "%matplotlib inline"
   ]
  },
  {
   "cell_type": "code",
   "execution_count": 9,
   "metadata": {
    "collapsed": false
   },
   "outputs": [],
   "source": [
    "class troop_type():\n",
    "    '''\n",
    "    A class that defines the maximum service of the troops, the amount of that troop\n",
    "    '''\n",
    "    def __init__(self, chance_of_retire, quantity, alliance, name): #assigning attributes to the troops specifically\n",
    "        self.chance_of_retire = chance_of_retire\n",
    "        self.quantity = quantity\n",
    "        self.alliance = alliance\n",
    "        self.name = name\n",
    "    def __repr__(self):\n",
    "        return self.name"
   ]
  },
  {
   "cell_type": "code",
   "execution_count": 10,
   "metadata": {
    "collapsed": false
   },
   "outputs": [
    {
     "name": "stdout",
     "output_type": "stream",
     "text": [
      "Would you like to input your own quantities? \n",
      "Default troop sizes selected.\n"
     ]
    },
    {
     "data": {
      "text/plain": [
       "[Imperial, Storm, Sith, Jedi, Rebel, Clone]"
      ]
     },
     "execution_count": 10,
     "metadata": {},
     "output_type": "execute_result"
    }
   ],
   "source": [
    "#defines the numbers of each troop, 1/expected years of service, number of soldiers in thousands\n",
    "neutral = []\n",
    "\n",
    "#add troop types below if neccessary or wanted\n",
    "\n",
    "checkingresp = input(\"Would you like to input your own quantities? \") #User input for adjusting the circumstances of the battle\n",
    "if checkingresp == \"yes\":\n",
    "    impresp = int(input(\"Give a number of Imperial Soldiers: \"))\n",
    "    storesp = int(input(\"Give a number of Storm Troopers: \"))\n",
    "    sithresp = int(input(\"Give a number of Sith Lords: \"))\n",
    "    jediresp = int(input(\"Give a number of Jedi: \"))\n",
    "    neutral.append(troop_type(0.000091324, impresp, \"empire\", \"Imperial\"))\n",
    "    neutral.append(troop_type(0.000091324, storesp, \"empire\", \"Storm\"))\n",
    "    neutral.append(troop_type(0.000034246, sithresp, \"empire\", \"Sith\"))\n",
    "    neutral.append(troop_type(0.000054794, jediresp, \"rebellion\", \"Jedi\"))\n",
    "    imperial = troop_type(0.000091324, impresp, \"empire\", \"Imperial\")\n",
    "    storm = troop_type(0.000091324, storesp, \"empire\", \"Storm\")\n",
    "    sith = troop_type(0.000034246, sithresp, \"empire\", \"Sith\")\n",
    "    jedi = troop_type(0.000054794, jediresp, \"rebellion\", \"Jedi\")\n",
    "else:\n",
    "    print(\"Default troop sizes selected.\")\n",
    "    neutral.append(troop_type(0.000091324, 20345, \"empire\", \"Imperial\"))\n",
    "    neutral.append(troop_type(0.000091324, 500, \"empire\", \"Storm\"))\n",
    "    neutral.append(troop_type(0.000034246, 2, \"empire\", \"Sith\"))\n",
    "    neutral.append(troop_type(0.000054794, 100, \"rebellion\", \"Jedi\"))\n",
    "    imperial = troop_type(0.000091324, 20345, \"empire\", \"Imperial\")\n",
    "    storm = troop_type(0.000091324, 500, \"empire\", \"Storm\")\n",
    "    sith = troop_type(0.000034246, 2, \"empire\", \"Sith\")\n",
    "    jedi = troop_type(0.000054794, 100, \"rebellion\", \"Jedi\")\n",
    "\n",
    "#These are set at 0 and will increase instead of decrease when they lose a battle to count the number needed\n",
    "neutral.append(troop_type(0.000091324, 0, \"rebellion\", \"Rebel\"))\n",
    "neutral.append(troop_type(0.000182648, 0, \"rebellion\", \"Clone\"))\n",
    "rebel = troop_type(0.000091324, 0, \"rebellion\", \"Rebel\")\n",
    "clone = troop_type(0.000182648, 0, \"rebellion\", \"Clone\")\n",
    "\n",
    "neutral"
   ]
  },
  {
   "cell_type": "code",
   "execution_count": 11,
   "metadata": {
    "collapsed": false
   },
   "outputs": [
    {
     "name": "stdout",
     "output_type": "stream",
     "text": [
      "['Imperial', 'Storm', 'Sith']\n",
      "['Jedi', 'Rebel', 'Clone']\n"
     ]
    }
   ],
   "source": [
    "#assigns the troops to the relevant listt either empire or rebels\n",
    "empire = []\n",
    "rebels = []\n",
    "\n",
    "def assigning_sides(x):\n",
    "    '''\n",
    "    Assigns the troop, x, to the correct side depending on its alliance, putting them into a list with the other troops of the same faction\n",
    "    '''\n",
    "    if x.alliance == \"rebellion\":\n",
    "        return rebels.append(str(x)) #converts to strings so can be used below\n",
    "    if x.alliance == \"empire\":\n",
    "        return empire.append(str(x))\n",
    "\n",
    "for i in neutral:  #Sorts each of the troops in the neutral list into the correct factions list\n",
    "    assigning_sides(i) \n",
    "\n",
    "print(empire)\n",
    "print(rebels)"
   ]
  },
  {
   "cell_type": "code",
   "execution_count": 12,
   "metadata": {
    "collapsed": false
   },
   "outputs": [],
   "source": [
    "def vs_empire(troop):\n",
    "    '''\n",
    "    Input a random troop from the Empire, then select a random troop from the Rebels and, randomly (with certain troops being more likely to win than others), return the losing troop - 1   \n",
    "    '''\n",
    "    global Reb\n",
    "    global Cln\n",
    "    global Jed\n",
    "    global Imp\n",
    "    global Sto\n",
    "    global Sth\n",
    "    x = random.choice(rebels)\n",
    "    val = random.random()\n",
    "    if troop == \"Sith\":\n",
    "        if x == \"Rebel\":\n",
    "            if val <= 0.95:\n",
    "                Reb += 1\n",
    "                return Reb\n",
    "            else:\n",
    "                Sth -= 1\n",
    "                return Sth\n",
    "        elif x == \"Clone\":\n",
    "            if val <= 0.95:\n",
    "                Cln += 1\n",
    "                return Cln\n",
    "            else:\n",
    "                Sth -= 1\n",
    "                return Sth\n",
    "        elif x == \"Jedi\":\n",
    "            if val <= 0.75:\n",
    "                Jed -= 1\n",
    "                return Jed\n",
    "            else:\n",
    "                Sth -= 1\n",
    "                return Sth\n",
    "    if troop == \"Storm\":\n",
    "        if x == \"Rebel\":\n",
    "            if val <= 0.75:\n",
    "                Reb += 1\n",
    "                return Reb\n",
    "            else:\n",
    "                Sto -= 1\n",
    "                return Sto\n",
    "        elif x == \"Clone\":\n",
    "            if val <= 0.5:\n",
    "                Cln += 1\n",
    "                return Cln\n",
    "            else:\n",
    "                Sto -= 1\n",
    "                return Sto\n",
    "        elif x == \"Jedi\":\n",
    "            if val <= 0.2:\n",
    "                Jed -= 1\n",
    "                return Jed\n",
    "            else:\n",
    "                Sto -= 1\n",
    "                return Sto\n",
    "    if troop == \"Imperial\":\n",
    "        if x == \"Rebel\":\n",
    "            if val <= 0.5:\n",
    "                Reb += 1\n",
    "                return Reb\n",
    "            else:\n",
    "                Imp -= 1\n",
    "                return Imp\n",
    "        elif x == \"Clone\":\n",
    "            if val <= 0.3:\n",
    "                Cln += 1\n",
    "                return Cln\n",
    "            else:\n",
    "                Imp -= 1\n",
    "                return Imp\n",
    "        elif x == \"Jedi\":\n",
    "            if val <= 0.1:\n",
    "                Jed -= 1\n",
    "                return Jed\n",
    "            else:\n",
    "                Imp -= 1\n",
    "                return Imp"
   ]
  },
  {
   "cell_type": "code",
   "execution_count": 13,
   "metadata": {
    "collapsed": false
   },
   "outputs": [],
   "source": [
    "#defining values to refer to the class attributes of the troops\n",
    "#starting quantities\n",
    "Reb = rebel.quantity\n",
    "Cln = clone.quantity\n",
    "Jed = jedi.quantity\n",
    "Imp = imperial.quantity\n",
    "Sto = storm.quantity\n",
    "Sth = sith.quantity\n",
    "#retirement chances - note for calculation rebel = storm = imperial\n",
    "Rebret = rebel.chance_of_retire\n",
    "Clnret = clone.chance_of_retire\n",
    "Jedret = jedi.chance_of_retire\n",
    "Impret = imperial.chance_of_retire\n",
    "Storet = storm.chance_of_retire\n",
    "Sthret = sith.chance_of_retire\n",
    "\n",
    "Rebels_amount = []\n",
    "Clones_amount = []\n",
    "war_stats = []\n",
    "\n",
    "def reset_war():\n",
    "    '''\n",
    "    Resets the quantities of soldiers and the lists of the Empire and Rebels\n",
    "    '''\n",
    "    global Reb\n",
    "    global Cln\n",
    "    global Jed\n",
    "    global Imp\n",
    "    global Sto\n",
    "    global Sth\n",
    "    Reb = rebel.quantity\n",
    "    Cln = clone.quantity\n",
    "    Jed = jedi.quantity\n",
    "    Imp = imperial.quantity\n",
    "    Sto = storm.quantity\n",
    "    Sth = sith.quantity\n",
    "    del empire[:]\n",
    "    del rebels[:]\n",
    "    for i in neutral:  \n",
    "        assigning_sides(i)\n",
    "    \n",
    "def retirement(n):\n",
    "    '''\n",
    "    Gives all troops a chance to retire, as the time increases the chance of retirement for each troop increases\n",
    "    '''\n",
    "    global Rebret\n",
    "    global Clnret\n",
    "    global Jedret\n",
    "    global Impret\n",
    "    global Storet\n",
    "    global Sthret\n",
    "    global Reb\n",
    "    global Cln\n",
    "    global Jed\n",
    "    global Imp\n",
    "    global Sto\n",
    "    global Sth\n",
    "    chnce = random.random()\n",
    "    if n == 0:\n",
    "        pass\n",
    "    if n * Clnret > chnce:\n",
    "        Cln += 1\n",
    "        if n * Rebret > chnce:\n",
    "            Reb += 1\n",
    "            Sto -= 1\n",
    "            Imp -= 1\n",
    "            if n * Jedret > chnce:\n",
    "                Jed -= 1\n",
    "                if n * Sthret > chnce:\n",
    "                    Sth -= 1\n",
    "    return Reb, Sto, Imp, Sth, Jed, Cln\n",
    "    \n",
    "    \n",
    "def war_simulation_formal(y):\n",
    "    '''\n",
    "    A formal simulation of the war, will run through the simulation y times untill all the Empire are defeated. Prints data formally.\n",
    "    '''\n",
    "    global war_stats\n",
    "    i = 0\n",
    "    while i < y:\n",
    "        i += 1\n",
    "        reset_war()\n",
    "        years = 0\n",
    "        while len(empire) != 0:\n",
    "            #when a troop runs out it removes them from the list as they can't fight\n",
    "            if years % 10 == 0:    \n",
    "                retirement(years)\n",
    "            years += 1\n",
    "            if Sto == 0 and \"Storm\" in empire:\n",
    "                empire.remove(\"Storm\")\n",
    "            if Imp == 0 and \"Imperial\" in empire:\n",
    "                empire.remove(\"Imperial\")\n",
    "            if Sth == 0 and \"Sith\" in empire:\n",
    "                empire.remove(\"Sith\")\n",
    "            if Jed == 0 and \"Jedi\" in rebels:\n",
    "                rebels.remove(\"Jedi\")\n",
    "            elif len(empire) != 0:\n",
    "                temp = str(random.choice(empire))\n",
    "                vs_empire(temp)\n",
    "        war_stats.append(str(\"Number of Rebel Forces required for attempt \" + str(i) + \": \" +  str(Reb)))\n",
    "        war_stats.append(str(\"Number of Clone Forces required for attempt \" + str(i) + \": \" + str(Cln)))\n",
    "        war_stats.append(\"                   \")\n",
    "    return war_stats\n",
    "\n",
    "def war_simulation_data(y):\n",
    "    '''\n",
    "    An informal simulation of the war, returns the number of clones and rebels needed. Repeats y times and returns all the results.\n",
    "    '''\n",
    "    i = 0\n",
    "    global Rebels_amount\n",
    "    global Clones_amount\n",
    "    while i < y:\n",
    "        i += 1\n",
    "        reset_war()\n",
    "        years = 0\n",
    "        while len(empire) != 0:\n",
    "            #when a troop runs out it removes them from the list as they can't fight\n",
    "            if years % 10 == 0:    \n",
    "                retirement(years)\n",
    "            years += 1\n",
    "            if Sto == 0 and \"Storm\" in empire:\n",
    "                empire.remove(\"Storm\")\n",
    "            if Imp == 0 and \"Imperial\" in empire:\n",
    "                empire.remove(\"Imperial\")\n",
    "            if Sth == 0 and \"Sith\" in empire:\n",
    "                empire.remove(\"Sith\")\n",
    "            if Jed == 0 and \"Jedi\" in rebels:\n",
    "                rebels.remove(\"Jedi\")\n",
    "            elif len(empire) != 0:\n",
    "                temp = str(random.choice(empire))\n",
    "                vs_empire(temp)\n",
    "        Rebels_amount.append(Reb)\n",
    "        Clones_amount.append(Cln)\n",
    "    return Rebels_amount, Clones_amount"
   ]
  },
  {
   "cell_type": "code",
   "execution_count": 15,
   "metadata": {
    "collapsed": false
   },
   "outputs": [
    {
     "name": "stdout",
     "output_type": "stream",
     "text": [
      "[10057, 10008, 10129, 10056, 10200, 10226, 9832, 10097, 9879, 9840, 10220] [7264, 7297, 7417, 7288, 7296, 7467, 7377, 7317, 7436, 7224, 7389]\n"
     ]
    }
   ],
   "source": [
    "#When looking for specific data to analyse use the war_simulation_data function, if just to try out the code use war_simulation_formal\n",
    "for i in range(3):\n",
    "    war_simulation_data(2) #repeats the simulation this amount of times and returns the data\n",
    "print(Rebels_amount,Clones_amount)"
   ]
  },
  {
   "cell_type": "markdown",
   "metadata": {},
   "source": [
    "# Linear Algebra Comparison"
   ]
  },
  {
   "cell_type": "code",
   "execution_count": 10,
   "metadata": {
    "collapsed": false
   },
   "outputs": [
    {
     "data": {
      "image/png": "[encoded data removed]",
      "text/latex": [
       "$$\\left ( \\left[\\begin{matrix}Rebel_{Power} & Clone_{Power} & Jedi_{Power} & - Sith_{Power} & - Storm_{Power} & - Imperial_{Power}\\\\Rebel_{Ratio} & Clone_{Ratio} & Jedi_{Ratio} & - Sith_{Ratio} & - Storm_{Ratio} & - Imperial_{Ratio}\\end{matrix}\\right], \\quad Clone_{Power} b - Imperial_{Power} f + Jedi_{Power} c + Rebel_{Power} a - Sith_{Power} d - Storm_{Power} e, \\quad Clone_{Ratio} b - Imperial_{Ratio} f + Jedi_{Ratio} c + Rebel_{Ratio} a - Sith_{Ratio} d - Storm_{Ratio} e\\right )$$"
      ],
      "text/plain": [
       "⎛⎡Rebel_Power  Clone_Power  Jedi_Power  -Sith_Power  -Storm_Power  -Imperial_P\n",
       "⎜⎢                                                                            \n",
       "⎝⎣Rebel_Ratio  Clone_Ratio  Jedi_Ratio  -Sith_Ratio  -Storm_Ratio  -Imperial_R\n",
       "\n",
       "ower⎤, Clone_Power⋅b - Imperial_Power⋅f + Jedi_Power⋅c + Rebel_Power⋅a - Sith_\n",
       "    ⎥                                                                         \n",
       "atio⎦                                                                         \n",
       "\n",
       "Power⋅d - Storm_Power⋅e, Clone_Ratio⋅b - Imperial_Ratio⋅f + Jedi_Ratio⋅c + Reb\n",
       "                                                                              \n",
       "                                                                              \n",
       "\n",
       "el_Ratio⋅a - Sith_Ratio⋅d - Storm_Ratio⋅e⎞\n",
       "                                         ⎟\n",
       "                                         ⎠"
      ]
     },
     "execution_count": 10,
     "metadata": {},
     "output_type": "execute_result"
    }
   ],
   "source": [
    "RP, CP, JP, SiP, SP, IP, RR, CR, JR, SiR, SR, IR, a, b, c, d, e, f = sym.symbols(\"Rebel_Power Clone_Power Jedi_Power Sith_Power Storm_Power Imperial_Power Rebel_Ratio Clone_Ratio Jedi_Ratio Sith_Ratio Storm_Ratio Imperial_Ratio a b c d e f\")\n",
    "\n",
    "pwr_eqn = a * RP + b * CP + c * JP - d * SiP - e * SP - f * IP\n",
    "Rtio_eqn = a * RR + b * CR + c * JR - d * SiR - e * SR - f * IR\n",
    "\n",
    "M = sym.Matrix([[RP, CP, JP, -SiP, -SP, -IP], [RR, CR, JR, -SiR, -SR, -IR]])\n",
    "M, pwr_eqn, Rtio_eqn"
   ]
  },
  {
   "cell_type": "code",
   "execution_count": 6,
   "metadata": {
    "collapsed": false
   },
   "outputs": [],
   "source": [
    "r = sym.symbols(\"r\")\n",
    "c = sym.symbols(\"c\")\n",
    "\n",
    "A = sym.Matrix([[10, 7, 3, -1, -7, -10], [r, c, 100, -2, -500, -20345]])\n",
    "B = sym.Matrix([[0], [0]])\n",
    "linear_matrix, null = A.gauss_jordan_solve(B)"
   ]
  },
  {
   "cell_type": "code",
   "execution_count": 8,
   "metadata": {
    "collapsed": false,
    "scrolled": true
   },
   "outputs": [
    {
     "data": {
      "image/png": "[encoded data removed]",
      "text/latex": [
       "$$\\left[\\begin{matrix}- \\tau_{0} \\left(\\frac{3}{10} - \\frac{- \\frac{21 r}{10} + 700}{10 c - 7 r}\\right) - \\tau_{1} \\left(- \\frac{1}{10} - \\frac{\\frac{7 r}{10} - 14}{10 c - 7 r}\\right) - \\tau_{2} \\left(- \\frac{7}{10} - \\frac{\\frac{49 r}{10} - 3500}{10 c - 7 r}\\right) - \\tau_{3} \\left(-1 - \\frac{7 r - 142415}{10 c - 7 r}\\right)\\\\- \\frac{\\tau_{0} \\left(- \\frac{3 r}{10} + 100\\right)}{c - \\frac{7 r}{10}} - \\frac{\\tau_{1} \\left(\\frac{r}{10} - 2\\right)}{c - \\frac{7 r}{10}} - \\frac{\\tau_{2} \\left(\\frac{7 r}{10} - 500\\right)}{c - \\frac{7 r}{10}} - \\frac{\\tau_{3} \\left(r - 20345\\right)}{c - \\frac{7 r}{10}}\\\\\\tau_{0}\\\\\\tau_{1}\\\\\\tau_{2}\\\\\\tau_{3}\\end{matrix}\\right]$$"
      ],
      "text/plain": [
       "⎡     ⎛       ⎛  3⋅r      ⎞⎞      ⎛          ⎛r     ⎞ ⎞      ⎛         ⎛7⋅r   \n",
       "⎢     ⎜     7⋅⎜- ─── + 100⎟⎟      ⎜        7⋅⎜── - 2⎟ ⎟      ⎜       7⋅⎜─── - \n",
       "⎢     ⎜3      ⎝   10      ⎠⎟      ⎜  1       ⎝10    ⎠ ⎟      ⎜  7      ⎝ 10   \n",
       "⎢- τ₀⋅⎜── - ───────────────⎟ - τ₁⋅⎜- ── - ────────────⎟ - τ₂⋅⎜- ── - ─────────\n",
       "⎢     ⎜10        ⎛    7⋅r⎞ ⎟      ⎜  10      ⎛    7⋅r⎞⎟      ⎜  10       ⎛    \n",
       "⎢     ⎜       10⋅⎜c - ───⎟ ⎟      ⎜       10⋅⎜c - ───⎟⎟      ⎜        10⋅⎜c - \n",
       "⎢     ⎝          ⎝     10⎠ ⎠      ⎝          ⎝     10⎠⎠      ⎝           ⎝    \n",
       "⎢                                                                             \n",
       "⎢                          ⎛  3⋅r      ⎞      ⎛r     ⎞      ⎛7⋅r      ⎞       \n",
       "⎢                       τ₀⋅⎜- ─── + 100⎟   τ₁⋅⎜── - 2⎟   τ₂⋅⎜─── - 500⎟       \n",
       "⎢                          ⎝   10      ⎠      ⎝10    ⎠      ⎝ 10      ⎠   τ₃⋅(\n",
       "⎢                     - ──────────────── - ─────────── - ────────────── - ────\n",
       "⎢                               7⋅r              7⋅r            7⋅r           \n",
       "⎢                           c - ───          c - ───        c - ───          c\n",
       "⎢                                10               10             10           \n",
       "⎢                                                                             \n",
       "⎢                                                     τ₀                      \n",
       "⎢                                                                             \n",
       "⎢                                                     τ₁                      \n",
       "⎢                                                                             \n",
       "⎢                                                     τ₂                      \n",
       "⎢                                                                             \n",
       "⎣                                                     τ₃                      \n",
       "\n",
       "   ⎞⎞                          ⎤\n",
       "500⎟⎟                          ⎥\n",
       "   ⎠⎟      ⎛     7⋅(r - 20345)⎞⎥\n",
       "────⎟ - τ₃⋅⎜-1 - ─────────────⎟⎥\n",
       "7⋅r⎞⎟      ⎜         ⎛    7⋅r⎞⎟⎥\n",
       "───⎟⎟      ⎜      10⋅⎜c - ───⎟⎟⎥\n",
       " 10⎠⎠      ⎝         ⎝     10⎠⎠⎥\n",
       "                               ⎥\n",
       "                               ⎥\n",
       "                               ⎥\n",
       "r - 20345)                     ⎥\n",
       "──────────                     ⎥\n",
       "   7⋅r                         ⎥\n",
       " - ───                         ⎥\n",
       "    10                         ⎥\n",
       "                               ⎥\n",
       "                               ⎥\n",
       "                               ⎥\n",
       "                               ⎥\n",
       "                               ⎥\n",
       "                               ⎥\n",
       "                               ⎥\n",
       "                               ⎦"
      ]
     },
     "execution_count": 8,
     "metadata": {},
     "output_type": "execute_result"
    }
   ],
   "source": [
    "linear_matrix"
   ]
  },
  {
   "cell_type": "code",
   "execution_count": 46,
   "metadata": {
    "collapsed": false
   },
   "outputs": [
    {
     "data": {
      "image/png": "[encoded data removed]",
      "text/latex": [
       "$$\\left[\\begin{matrix}\\frac{3}{2} - \\frac{- \\frac{21 Rebels}{2} + 142814}{10 Clones - 7 Rebels}\\\\\\frac{- \\frac{3 Rebels}{2} + 20402}{Clones - \\frac{7 Rebels}{10}}\\end{matrix}\\right]$$"
      ],
      "text/plain": [
       "⎡      ⎛  3⋅Rebels        ⎞⎤\n",
       "⎢    7⋅⎜- ──────── + 20402⎟⎥\n",
       "⎢3     ⎝     2            ⎠⎥\n",
       "⎢─ - ──────────────────────⎥\n",
       "⎢2      ⎛         7⋅Rebels⎞⎥\n",
       "⎢    10⋅⎜Clones - ────────⎟⎥\n",
       "⎢       ⎝            10   ⎠⎥\n",
       "⎢                          ⎥\n",
       "⎢      3⋅Rebels            ⎥\n",
       "⎢    - ──────── + 20402    ⎥\n",
       "⎢         2                ⎥\n",
       "⎢    ──────────────────    ⎥\n",
       "⎢             7⋅Rebels     ⎥\n",
       "⎢    Clones - ────────     ⎥\n",
       "⎣                10        ⎦"
      ]
     },
     "execution_count": 46,
     "metadata": {},
     "output_type": "execute_result"
    }
   ],
   "source": [
    "C = sym.Matrix([[10, 7], [r, c]])\n",
    "D = sym.Matrix([[15], [20402]])\n",
    "F, null2 = C.gauss_jordan_solve(D)\n",
    "F"
   ]
  },
  {
   "cell_type": "code",
   "execution_count": 47,
   "metadata": {
    "collapsed": false,
    "scrolled": true
   },
   "outputs": [
    {
     "data": {
      "image/png": "[encoded data removed]",
      "text/latex": [
       "$$\\left ( \\left\\{\\frac{142814}{15}\\right\\} \\setminus \\left\\{\\frac{7 Rebels}{10}\\right\\}, \\quad \\left\\{\\frac{40804}{3}\\right\\} \\setminus \\left\\{\\frac{10 Clones}{7}\\right\\}\\right )$$"
      ],
      "text/plain": [
       "⎛⎧142814⎫   ⎧7⋅Rebels⎫              ⎧10⋅Clones⎫⎞\n",
       "⎜⎨──────⎬ \\ ⎨────────⎬, {40804/3} \\ ⎨─────────⎬⎟\n",
       "⎝⎩  15  ⎭   ⎩   10   ⎭              ⎩    7    ⎭⎠"
      ]
     },
     "execution_count": 47,
     "metadata": {},
     "output_type": "execute_result"
    }
   ],
   "source": [
    "lin_reb_sol = sym.solveset(F[1, 0] , r)\n",
    "lin_cln_sol = sym.solveset(F[0, 0] , c)\n",
    "lin_cln_sol, lin_reb_sol"
   ]
  },
  {
   "cell_type": "markdown",
   "metadata": {
    "collapsed": false,
    "scrolled": false
   },
   "source": [
    "# Data Analysis"
   ]
  },
  {
   "cell_type": "code",
   "execution_count": 24,
   "metadata": {
    "collapsed": false
   },
   "outputs": [],
   "source": [
    "Rebellion_Data_sorting = sorted(list(zip(Clones_amount, Rebels_amount))) #by storing the data as a single list it can be sorted whilst keeping pairs together\n",
    "Sorted_Clone_data, Sorted_Rebel_data = zip(*Rebellion_Data_sorting) #combines both data into a list\n",
    "\n",
    "f = [(142814 / 15) for i in range(len(Sorted_Rebel_data) + 1)] \n",
    "g = [(40804 / 3) for i in range(len(Sorted_Clone_data) + 1)] \n"
   ]
  },
  {
   "cell_type": "code",
   "execution_count": 37,
   "metadata": {
    "collapsed": false
   },
   "outputs": [
    {
     "name": "stdout",
     "output_type": "stream",
     "text": [
      "Maximum, minimum amount of clones used: 7467 , 7224\n",
      "Range: 243\n",
      "Approx. Median: 7317\n",
      "Mean: 7342.909090909091\n"
     ]
    }
   ],
   "source": [
    "print(\"Maximum, minimum amount of clones used:\", max(Clones_amount),\",\",min(Clones_amount))\n",
    "print(\"Range:\", max(Clones_amount) - min(Clones_amount))\n",
    "print(\"Approx. Median:\", Sorted_Clone_data[int(len(Sorted_Clone_data) / 2)])\n",
    "print(\"Mean:\", sum(Sorted_Clone_data) / len(Sorted_Clone_data))"
   ]
  },
  {
   "cell_type": "code",
   "execution_count": 39,
   "metadata": {
    "collapsed": false
   },
   "outputs": [
    {
     "name": "stdout",
     "output_type": "stream",
     "text": [
      "Maximum, minimum amount of Rebels used: 10226 , 9832\n",
      "Range: 394\n",
      "Approx. Median: 10097\n",
      "Mean: 10049.454545454546\n"
     ]
    }
   ],
   "source": [
    "print(\"Maximum, minimum amount of Rebels used:\", max(Rebels_amount),\",\",min(Rebels_amount))\n",
    "print(\"Range:\", max(Rebels_amount) - min(Rebels_amount))\n",
    "print(\"Approx. Median:\", Sorted_Rebel_data[int(len(Sorted_Rebel_data) / 2)])\n",
    "print(\"Mean:\", sum(Sorted_Rebel_data) / len(Sorted_Rebel_data))"
   ]
  },
  {
   "cell_type": "code",
   "execution_count": 43,
   "metadata": {
    "collapsed": false
   },
   "outputs": [
    {
     "name": "stdout",
     "output_type": "stream",
     "text": [
      "9520.933333333332\n",
      "13601.333333333334\n"
     ]
    }
   ],
   "source": [
    "print(142814 / 15) #linear solution of Clones\n",
    "print(40804 / 3) #Linear solution of Rebels"
   ]
  },
  {
   "cell_type": "markdown",
   "metadata": {},
   "source": [
    "# Graphs"
   ]
  },
  {
   "cell_type": "code",
   "execution_count": 25,
   "metadata": {
    "collapsed": false
   },
   "outputs": [
    {
     "data": {
      "image/png": "[encoded data removed]",
      "text/plain": [
       "<matplotlib.figure.Figure at 0xba2b9b0>"
      ]
     },
     "metadata": {},
     "output_type": "display_data"
    }
   ],
   "source": [
    "plt.plot(Sorted_Clone_data, color=\"b\", label = 'Clones')\n",
    "plt.plot(Sorted_Rebel_data, color=\"g\", label = 'Rebels')\n",
    "plt.plot(f, linestyle='--', color='m', linewidth=2, label = 'Linear Clones')\n",
    "plt.plot(g, linestyle='--', color='r', linewidth=2, label = 'Linear Rebels')\n",
    "plt.ylabel('Number of Troops', fontsize=12)\n",
    "plt.xlabel('Trial Number', fontsize=12)\n",
    "plt.legend(loc = 'best')\n",
    "plt.savefig('Line Graph.png', bbox_inches='tight') #saves the graph without much white area around the image"
   ]
  },
  {
   "cell_type": "code",
   "execution_count": 23,
   "metadata": {
    "collapsed": false
   },
   "outputs": [
    {
     "data": {
      "image/png": "[encoded data removed]",
      "text/plain": [
       "<matplotlib.figure.Figure at 0xb9be978>"
      ]
     },
     "metadata": {},
     "output_type": "display_data"
    }
   ],
   "source": [
    "multiple_bars = plt.figure()\n",
    "\n",
    "x_bar = [ i + 1 for i in range(len(Sorted_Clone_data))]\n",
    "\n",
    "y = [(i / 1000) for i in (Sorted_Clone_data)]\n",
    "z = [(i / 1000) for i in (Sorted_Rebel_data)]\n",
    "f = [(142814 / 15) / 1000 for i in range(len(Sorted_Rebel_data) + 2)] \n",
    "g = [(40804 / 3) / 1000 for i in range(len(Sorted_Clone_data) + 2)] \n",
    "\n",
    "\n",
    "#all below used for plotting onto the graph\n",
    "ax = plt.subplot(111)\n",
    "ax.bar(x_bar, z,width=0.4,color='g',align='center', label = 'Rebels')\n",
    "ax.bar(x_bar, y,width=0.2,color='b',align='center', label = 'Clones')\n",
    "ax.plot(f, linestyle='--', color='m', linewidth=2, label = 'Linear Clones')\n",
    "ax.plot(g, linestyle='--', color='r', linewidth=2, label = 'Linear Rebels')\n",
    "\n",
    "ax.set_ylabel('No. Troops (x 10^3)') #label y-axis\n",
    "ax.set_xlabel('Trial Number') #label x-axis\n",
    "ax.legend(loc = 'upper right') #creates a legend for the graph\n",
    "\n",
    "plt.legend(bbox_to_anchor=(1.4, 1), bbox_transform=ax.transAxes) #moves the legend off the graph\n",
    "\n",
    "plt.savefig('Bar_chart.png', bbox_inches='tight') #saves the graph without much white area around the image\n",
    "\n",
    "plt.show()"
   ]
  }
 ],
 "metadata": {
  "anaconda-cloud": {},
  "kernelspec": {
   "display_name": "Python [conda root]",
   "language": "python",
   "name": "conda-root-py"
  },
  "language_info": {
   "codemirror_mode": {
    "name": "ipython",
    "version": 3
   },
   "file_extension": ".py",
   "mimetype": "text/x-python",
   "name": "python",
   "nbconvert_exporter": "python",
   "pygments_lexer": "ipython3",
   "version": "3.5.2"
  }
 },
 "nbformat": 4,
 "nbformat_minor": 1
}
